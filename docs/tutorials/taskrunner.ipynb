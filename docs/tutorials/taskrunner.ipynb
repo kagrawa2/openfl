{
  "cells": [
    {
      "cell_type": "markdown",
      "metadata": {
        "tags": [
          "hide-output"
        ]
      },
      "source": [
        "# Quickstart\n",
        "\n",
        "In this guide, we will train a simple Convolutional Neural Network (CNN) on MNIST handwritten digits dataset. We will simulate a Federated Learning experiment between two collaborators, orchestrated by an aggregator, via few CLI commands.\n",
        "\n",
        "OpenFL must be installed for this tutorial. Refer to the [installation](https://openfl.readthedocs.io/en/latest/installation.html) guide."
      ]
    },
    {
      "cell_type": "markdown",
      "metadata": {
        "tags": [
          "hide-output"
        ]
      },
      "source": [
        "### Create a workspace\n",
        "\n",
        "We will reuse an existing workspace. OpenFL provides many reference model templates. Check them out under [workspaces](https://github.com/securefederatedai/openfl/tree/develop/openfl-workspace)."
      ]
    },
    {
      "cell_type": "code",
      "execution_count": null,
      "metadata": {
        "tags": [
          "hide-output"
        ]
      },
      "outputs": [],
      "source": [
        "!fx workspace create --prefix ./mnist_example --template keras/mnist\n",
        "%cd ./mnist_example"
      ]
    },
    {
      "cell_type": "markdown",
      "metadata": {
        "tags": [
          "hide-output"
        ]
      },
      "source": [
        "### Initialize a Plan\n",
        "\n",
        "This step builds an entire FL experiment plan, along with the initial set of parameters that will be used in the experiment.\n",
        "We supply `localhost` as the aggregator address, for simulation purposes. The command below supports models of arbitrary input shapes and initializations (e.g. when using pre-trained models).\n",
        "\n",
        "For a complete list of supported options, refer to [`fx plan initialize`](https://openfl.readthedocs.io/en/latest/reference/fx.plan.html#fx-plan-initialize)."
      ]
    },
    {
      "cell_type": "code",
      "execution_count": null,
      "metadata": {
        "tags": [
          "hide-output"
        ],
        "vscode": {
          "languageId": "shellscript"
        }
      },
      "outputs": [],
      "source": [
        "!fx plan initialize -a localhost"
      ]
    },
    {
      "cell_type": "markdown",
      "metadata": {
        "tags": [
          "hide-output"
        ]
      },
      "source": [
        "### Create a certificate authority (CA)\n",
        "\n",
        "OpenFL supports mTLS, which ensures secure communication between the collaborators and the aggregator. This step generates a certificate authority (CA) that will be used to sign the certificates of the collaborators. The CA is generated only once and can be reused for multiple experiments.\n",
        "\n",
        "No additional arguments are required for this command."
      ]
    },
    {
      "cell_type": "code",
      "execution_count": null,
      "metadata": {
        "vscode": {
          "languageId": "shellscript"
        }
      },
      "outputs": [],
      "source": [
        "!fx workspace certify"
      ]
    },
    {
      "cell_type": "markdown",
      "metadata": {
        "tags": [
          "hide-output"
        ]
      },
      "source": [
        "### Aggregator Setup\n",
        "\n",
        "The [`fx aggregator`](https://openfl.readthedocs.io/en/latest/reference/fx.aggregator.html) subcommand options to manage the aggregator-side certificate signing, generation and verification.\n",
        "\n",
        "Here, we generate the aggregator's certificate and private key. The aggregator's certificate is then signed by the CA generated in the previous step.\n",
        "\n",
        "For all commands that follow, `--silent` is used to skip manual confirmation. In practice, users are recommended to verify the details before proceeding."
      ]
    },
    {
      "cell_type": "code",
      "execution_count": null,
      "metadata": {
        "vscode": {
          "languageId": "shellscript"
        }
      },
      "outputs": [],
      "source": [
        "!fx aggregator generate-cert-request --fqdn localhost\n",
        "!fx aggregator certify --fqdn localhost --silent"
      ]
    },
    {
      "cell_type": "markdown",
      "metadata": {
        "tags": [
          "hide-output"
        ]
      },
      "source": [
        "### Collaborator Setup\n",
        "\n",
        "Following aggregator, [`fx collaborator`](https://openfl.readthedocs.io/en/latest/reference/fx.collaborator.html) subcommand manages the collaborator-side certificate signing, generation and verification. In addition, because collaborators bring their own local datasets, we populate dataset information under `plan/data.yaml`."
      ]
    },
    {
      "cell_type": "markdown",
      "metadata": {
        "tags": [
          "hide-output"
        ]
      },
      "source": [
        "#### Setup first collaborator `bob`\n",
        "\n",
        "This step registers `--data_path` against collaborator's name `-n` under `plan/data.yaml`."
      ]
    },
    {
      "cell_type": "code",
      "execution_count": null,
      "metadata": {
        "vscode": {
          "languageId": "shellscript"
        }
      },
      "outputs": [],
      "source": [
        "!fx collaborator create --data_path 0 -n bob --silent"
      ]
    },
    {
      "cell_type": "markdown",
      "metadata": {
        "tags": [
          "hide-output"
        ]
      },
      "source": [
        "The next step generates `bob`s certificate and key pair."
      ]
    },
    {
      "cell_type": "code",
      "execution_count": null,
      "metadata": {
        "vscode": {
          "languageId": "shellscript"
        }
      },
      "outputs": [],
      "source": [
        "!fx collaborator generate-cert-request -n bob --silent"
      ]
    },
    {
      "cell_type": "markdown",
      "metadata": {
        "tags": [
          "hide-output"
        ]
      },
      "source": [
        "Certify `bob` with the CA.\n",
        "\n",
        "> Note: Here, we assume CA to be the aggregator. Hence the command below runs on the `aggregator` side. In reality, `bob`'s certificate signing request (CSR) package generated in the last step, is sent to the `aggregator`, which then signs the certificate with the CA. The signed certificate then has to be sent back to `bob`."
      ]
    },
    {
      "cell_type": "code",
      "execution_count": null,
      "metadata": {
        "vscode": {
          "languageId": "shellscript"
        }
      },
      "outputs": [],
      "source": [
        "!fx collaborator certify --request-pkg col_bob_to_agg_cert_request.zip --silent"
      ]
    },
    {
      "cell_type": "markdown",
      "metadata": {
        "tags": [
          "hide-output"
        ]
      },
      "source": [
        "#### Setup second collaborator `charlie`\n",
        "\n",
        "As before, we create a collaborator by registering `--data_path` against collaborator's name `-n` under `plan/data.yaml`."
      ]
    },
    {
      "cell_type": "code",
      "execution_count": null,
      "metadata": {
        "vscode": {
          "languageId": "shellscript"
        }
      },
      "outputs": [],
      "source": [
        "!fx collaborator create --data_path 1 -n charlie --silent"
      ]
    },
    {
      "cell_type": "markdown",
      "metadata": {
        "tags": [
          "hide-output"
        ]
      },
      "source": [
        "Now, generate `charlie`s certificate and key pair."
      ]
    },
    {
      "cell_type": "code",
      "execution_count": null,
      "metadata": {
        "vscode": {
          "languageId": "shellscript"
        }
      },
      "outputs": [],
      "source": [
        "!fx collaborator generate-cert-request -n charlie --silent"
      ]
    },
    {
      "cell_type": "markdown",
      "metadata": {
        "tags": [
          "hide-output"
        ]
      },
      "source": [
        "Certify `charlie` with the CA.\n",
        "\n",
        "> Note: Again, we assume CA to be the aggregator. Hence the command below is expected to be run on the `aggregator` side. In practice, `charlie`'s certificate signing request (CSR) package generated in the last step, is sent to the `aggregator`, which then signs the certificate with the CA. The signed certificate then has to be sent back to `charlie`."
      ]
    },
    {
      "cell_type": "code",
      "execution_count": null,
      "metadata": {
        "vscode": {
          "languageId": "shellscript"
        }
      },
      "outputs": [],
      "source": [
        "!fx collaborator certify --request-pkg col_charlie_to_agg_cert_request.zip --silent"
      ]
    },
    {
      "cell_type": "markdown",
      "metadata": {
        "tags": [
          "hide-output"
        ]
      },
      "source": [
        "### Import CA signed certificates\n",
        "\n",
        "This step imports the CA-signed certificates of the collaborator and the aggregator into the workspace. We are back on the individual collaborator nodes for this step."
      ]
    },
    {
      "cell_type": "code",
      "execution_count": null,
      "metadata": {
        "vscode": {
          "languageId": "shellscript"
        }
      },
      "outputs": [],
      "source": [
        "!fx collaborator certify --import agg_to_col_bob_signed_cert.zip\n",
        "!fx collaborator certify --import agg_to_col_charlie_signed_cert.zip"
      ]
    },
    {
      "cell_type": "markdown",
      "metadata": {
        "tags": [
          "hide-output"
        ]
      },
      "source": [
        "### Start the simulation\n",
        "\n",
        "This step starts the simulation of the FL experiment. The aggregator will orchestrate the training process between the collaborators.\n",
        "\n",
        "In practice, this command is executed on respective aggregator/collaborator nodes."
      ]
    },
    {
      "cell_type": "code",
      "execution_count": null,
      "metadata": {
        "tags": [
          "hide-output"
        ],
        "vscode": {
          "languageId": "shellscript"
        }
      },
      "outputs": [],
      "source": [
        "!fx aggregator start &\\\n",
        " fx collaborator start -n bob &\\\n",
        " fx collaborator start -n charlie"
      ]
    },
    {
      "cell_type": "markdown",
      "metadata": {
        "tags": [
          "hide-output"
        ]
      },
      "source": [
        "### Next steps\n",
        "\n",
        "The simulation will run for a few epochs. Once the simulation is complete, the model will be saved under the `save` directory. The model can be converted to framework native formats using the [`fx model save`](https://openfl.readthedocs.io/en/latest/reference/fx.model.html#fx-model-save) command.\n",
        "\n",
        "For detailed information on options supported via CLI, refer to the [CLI reference](https://openfl.readthedocs.io/en/latest/fx.html).\n",
        "\n",
        "For an in-depth understanding of the TaskRunner architecture, refer to the [TaskRunner API](https://openfl.readthedocs.io/en/latest/about/features_index/taskrunner.html)."
      ]
    },
    {
      "cell_type": "markdown",
      "metadata": {
        "tags": [
          "hide-output"
        ]
      },
      "source": []
    }
  ],
  "metadata": {
    "kernelspec": {
      "display_name": "venv",
      "language": "python",
      "name": "python3"
    },
    "language_info": {
      "codemirror_mode": {
        "name": "ipython",
        "version": 3
      },
      "file_extension": ".py",
      "mimetype": "text/x-python",
      "name": "python",
      "nbconvert_exporter": "python",
      "pygments_lexer": "ipython3",
      "version": "3.10.12"
    },
    "mystnb": {
      "hide_cell_outputs": true
    }
  },
  "nbformat": 4,
  "nbformat_minor": 2
}
